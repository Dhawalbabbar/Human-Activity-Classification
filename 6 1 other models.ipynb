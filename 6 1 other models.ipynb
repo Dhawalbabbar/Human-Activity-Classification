{
 "cells": [
  {
   "cell_type": "code",
   "execution_count": 5,
   "metadata": {
    "scrolled": true
   },
   "outputs": [
    {
     "name": "stdout",
     "output_type": "stream",
     "text": [
      "(3902, 30)\n",
      "(2614, 30)\n"
     ]
    }
   ],
   "source": [
    "import scipy\n",
    "import pandas as pd\n",
    "import numpy as np\n",
    "from sklearn.model_selection import train_test_split\n",
    "if __name__ == \"__main__\":\n",
    "    # -----------------------------\n",
    "    # Step 1: load and prepare data\n",
    "    # -----------------------------\n",
    "\n",
    "    # Those are separate normalised input features for the neural network\n",
    "    INPUT_SIGNAL_TYPES = [\n",
    "        \"body_acc_x_\",\n",
    "        \"body_acc_y_\",\n",
    "        \"body_acc_z_\",\n",
    "        \"body_gyro_x_\",\n",
    "        \"body_gyro_y_\",\n",
    "        \"body_gyro_z_\",\n",
    "        \"total_acc_x_\",\n",
    "        \"total_acc_y_\",\n",
    "        \"total_acc_z_\"\n",
    "    ]\n",
    "\n",
    "    # Output classes to learn how to classify\n",
    "    LABELS = [\n",
    "        \"SITTING\",\n",
    "        \"STANDING\",\n",
    "    ]\n",
    "    files=['sess002','sess003','sess004','sess005','sess006','sess007','sess008','sess009','sess010','sess011','sess012','sess013','sess014','sess015','sess016','sess017','sess018','sess019','sess020']\n",
    "    values=[0,1,1,0,1,0,1,1,1,0,0,1,1,1,0,1,0,1,0,0]\n",
    "    j=0\n",
    "    #Loadind data\n",
    "    n_features=6\n",
    "    features = ['head_velocity_x','head_velocity_y','head_velocity_z','head_ang_velocity_x','head_ang_velocity_y','head_ang_velocity_z']\n",
    "    window=100\n",
    "    X = pd.read_csv('OculusData/'+'sess001' ,names=['time','head_position_x','head_position_y','head_position_z','head_velocity_x','head_velocity_y','head_velocity_z','head_acc_x','head_acc_y','head_acc_z','head_orientation_x','head_orientation_y','head_orientation_z','head_orientation_w','head_ang_velocity_x','head_ang_velocity_y','head_ang_velocity_z','head_ang_acc_x','head_ang_acc_y','head_ang_acc_z','left_hand_position_x','left_hand_position_y','left_hand_position_z','left_hand_velocity_x','left_hand_velocity_y','left_hand_velocity_z','left_hand_acc_x','left_hand_acc_y','left_hand_acc_z','left_hand_orientation_x','left_hand_orientation_y','left_hand_orientation_z','left_hand_orientation_w','left_hand_ang_velocity_x','left_hand_ang_velocity_y','left_hand_ang_velocity_z','left_hand_ang_acc_x','left_hand_ang_acc_y','left_hand_ang_acc_z','right_hand_position_x','right_hand_position_y','right_hand_position_z','right_hand_velocity_x','right_hand_velocity_y','right_hand_velocity_z','right_hand_acc_x','right_hand_acc_y','right_hand_acc_z','right_hand_orientation_x','right_hand_orientation_y','right_hand_orientation_z','right_hand_orientation_w','right_hand_ang_velocity_x','right_hand_ang_velocity_y','right_hand_ang_velocity_z','right_hand_ang_acc_x','right_hand_ang_acc_y','right_hand_ang_acc_z'])\n",
    "    X=X[features]\n",
    "    data_points=X.shape[0]//window\n",
    "    #print(data_points)\n",
    "    X=X.head(data_points*window)\n",
    "    X=np.array(X)\n",
    "    X=np.reshape(X,((data_points,window,n_features)))\n",
    "    #print(X.shape)\n",
    "    Y=np.zeros((data_points,2))\n",
    "    Y[:,values[j]]=1\n",
    "    j+=1\n",
    "    \n",
    "    for i in files:\n",
    "        X0 = pd.read_csv('OculusData/'+i ,names=['time','head_position_x','head_position_y','head_position_z','head_velocity_x','head_velocity_y','head_velocity_z','head_acc_x','head_acc_y','head_acc_z','head_orientation_x','head_orientation_y','head_orientation_z','head_orientation_w','head_ang_velocity_x','head_ang_velocity_y','head_ang_velocity_z','head_ang_acc_x','head_ang_acc_y','head_ang_acc_z','left_hand_position_x','left_hand_position_y','left_hand_position_z','left_hand_velocity_x','left_hand_velocity_y','left_hand_velocity_z','left_hand_acc_x','left_hand_acc_y','left_hand_acc_z','left_hand_orientation_x','left_hand_orientation_y','left_hand_orientation_z','left_hand_orientation_w','left_hand_ang_velocity_x','left_hand_ang_velocity_y','left_hand_ang_velocity_z','left_hand_ang_acc_x','left_hand_ang_acc_y','left_hand_ang_acc_z','right_hand_position_x','right_hand_position_y','right_hand_position_z','right_hand_velocity_x','right_hand_velocity_y','right_hand_velocity_z','right_hand_acc_x','right_hand_acc_y','right_hand_acc_z','right_hand_orientation_x','right_hand_orientation_y','right_hand_orientation_z','right_hand_orientation_w','right_hand_ang_velocity_x','right_hand_ang_velocity_y','right_hand_ang_velocity_z','right_hand_ang_acc_x','right_hand_ang_acc_y','right_hand_ang_acc_z'])\n",
    "        X0=X0[features]\n",
    "        data_points=X0.shape[0]//window\n",
    "        #print(data_points)\n",
    "        X0=X0.head(data_points*window)\n",
    "        X0=np.array(X0)\n",
    "        X0=np.reshape(X0,((data_points,window,n_features)))\n",
    "        #print(X0.shape)\n",
    "        X=np.concatenate((X,X0))\n",
    "        Y0=np.zeros((data_points,2))\n",
    "        Y0[:,values[j]]=1\n",
    "        Y=np.concatenate((Y,Y0))\n",
    "        j+=1\n",
    "    a=np.max(X,axis=1)\n",
    "    #print(a.shape)\n",
    "    #b=np.min(X,axis=1)\n",
    "    a=np.concatenate((a,np.min(X,axis=1)),axis=1)\n",
    "    a=np.concatenate((a,np.average(X,axis=1)),axis=1)\n",
    "    a=np.concatenate((a,np.std(X,axis=1)),axis=1)\n",
    "    a=np.concatenate((a,np.real(np.fft.rfftn(X,axes=(0,1)))[:,0]),axis=1)\n",
    "    print(a.shape)\n",
    "    \n",
    "    \n",
    "    \n",
    "    X=a\n",
    "    \n",
    "    X_train, X_test, y_train, y_test = train_test_split(X, Y, test_size=0.33)\n",
    "    print(X_train.shape)\n",
    "    y_1D_train=y_train[:,1]\n",
    "    y_1D_test=y_test[:,1]\n",
    "    #print(y_train.head(100))\n",
    "    #print(Config(X_train, X_test))"
   ]
  },
  {
   "cell_type": "code",
   "execution_count": 43,
   "metadata": {},
   "outputs": [
    {
     "data": {
      "text/plain": [
       "0.55590062111801242"
      ]
     },
     "execution_count": 43,
     "metadata": {},
     "output_type": "execute_result"
    }
   ],
   "source": [
    "from sklearn.neighbors import KNeighborsClassifier\n",
    "knn=KNeighborsClassifier(n_neighbors=200)\n",
    "knn.fit(X_train,y_train)\n",
    "knn.score(X_test,y_test)"
   ]
  },
  {
   "cell_type": "code",
   "execution_count": 45,
   "metadata": {},
   "outputs": [
    {
     "data": {
      "text/plain": [
       "0.5753105590062112"
      ]
     },
     "execution_count": 45,
     "metadata": {},
     "output_type": "execute_result"
    }
   ],
   "source": [
    "from sklearn.tree import DecisionTreeClassifier\n",
    "clf = DecisionTreeClassifier().fit(X_train, y_train)\n",
    "clf.score(X_test,y_test)"
   ]
  },
  {
   "cell_type": "code",
   "execution_count": 9,
   "metadata": {},
   "outputs": [
    {
     "data": {
      "text/plain": [
       "0.54736024844720499"
      ]
     },
     "execution_count": 9,
     "metadata": {},
     "output_type": "execute_result"
    }
   ],
   "source": [
    "from sklearn.naive_bayes import GaussianNB\n",
    "model=GaussianNB()\n",
    "model.fit(X_train,y_1D_train)\n",
    "model.predict(X_test)\n",
    "model.score(X_test,y_1D_test)"
   ]
  },
  {
   "cell_type": "code",
   "execution_count": null,
   "metadata": {},
   "outputs": [],
   "source": []
  }
 ],
 "metadata": {
  "kernelspec": {
   "display_name": "Python 3",
   "language": "python",
   "name": "python3"
  },
  "language_info": {
   "codemirror_mode": {
    "name": "ipython",
    "version": 3
   },
   "file_extension": ".py",
   "mimetype": "text/x-python",
   "name": "python",
   "nbconvert_exporter": "python",
   "pygments_lexer": "ipython3",
   "version": "3.6.3"
  }
 },
 "nbformat": 4,
 "nbformat_minor": 2
}
